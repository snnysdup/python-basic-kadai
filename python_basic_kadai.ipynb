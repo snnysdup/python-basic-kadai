{
  "nbformat": 4,
  "nbformat_minor": 0,
  "metadata": {
    "colab": {
      "provenance": []
    },
    "kernelspec": {
      "name": "python3",
      "display_name": "Python 3"
    },
    "language_info": {
      "name": "python"
    }
  },
  "cells": [
    {
      "cell_type": "code",
      "execution_count": 1,
      "metadata": {
        "colab": {
          "base_uri": "https://localhost:8080/"
        },
        "id": "sPLBGzOx9HyY",
        "outputId": "f535a7fe-c2c0-4fc4-fe16-b7e2abe31a35"
      },
      "outputs": [
        {
          "output_type": "stream",
          "name": "stdout",
          "text": [
            "75.0c㎡\n"
          ]
        }
      ],
      "source": [
        "top_side=10\n",
        "bottom_side=20\n",
        "height=5\n",
        "\n",
        "area=(top_side+bottom_side)*height/2\n",
        "\n",
        "print(f\"{area}c㎡\")"
      ]
    }
  ]
}